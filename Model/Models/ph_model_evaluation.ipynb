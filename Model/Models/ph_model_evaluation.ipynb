{
  "nbformat": 4,
  "nbformat_minor": 0,
  "metadata": {
    "colab": {
      "provenance": []
    },
    "kernelspec": {
      "name": "python3",
      "display_name": "Python 3"
    },
    "language_info": {
      "name": "python"
    }
  },
  "cells": [
    {
      "cell_type": "code",
      "source": [
        "# !pip install psycopg2"
      ],
      "metadata": {
        "id": "8bYSsMb1W1SI"
      },
      "execution_count": null,
      "outputs": []
    },
    {
      "cell_type": "markdown",
      "source": [
        "## Import Required Packages"
      ],
      "metadata": {
        "id": "vGhHJCpwqXGh"
      }
    },
    {
      "cell_type": "code",
      "execution_count": null,
      "metadata": {
        "id": "kcuI57_EWnPf"
      },
      "outputs": [],
      "source": [
        "import pandas as pd\n",
        "import numpy as np\n",
        "import psycopg2\n",
        "from sqlalchemy import create_engine\n",
        "import time"
      ]
    },
    {
      "cell_type": "markdown",
      "source": [
        "## Conenct to Database"
      ],
      "metadata": {
        "id": "I28Xv9RMqeNo"
      }
    },
    {
      "cell_type": "code",
      "source": [
        "# Connect to the PostgreSQL database\n",
        "host = '173.249.1.23'\n",
        "port = '5432'\n",
        "db = 'ph_api'\n",
        "user = 'postgres'\n",
        "password = 'Password'\n",
        "conn_str = f'postgresql://{user}:{password}@{host}:{port}/{db}'\n",
        "engine = create_engine(conn_str)\n",
        "\n"
      ],
      "metadata": {
        "id": "YpC0jw3dW1U4"
      },
      "execution_count": null,
      "outputs": []
    },
    {
      "cell_type": "markdown",
      "source": [
        "## Evaluate metrics - Ratings and Feedback"
      ],
      "metadata": {
        "id": "5wS44yqsqicM"
      }
    },
    {
      "cell_type": "code",
      "source": [
        "# Specify the table name\n",
        "table_name = 'feedback_feedback'\n",
        "\n",
        "# Establish a connection and execute the query\n",
        "conn = psycopg2.connect(database=db, user=user, password=password, host=host, port=port)\n",
        "cursor = conn.cursor()\n",
        "cursor.execute(f\"SELECT * FROM {table_name}\")\n",
        "\n",
        "# Fetch all rows from the cursor\n",
        "rows = cursor.fetchall()\n",
        "\n",
        "# Create a pandas DataFrame from the fetched rows\n",
        "df = pd.DataFrame(rows, columns=[desc[0] for desc in cursor.description])\n",
        "\n",
        "# Close the cursor and the connection\n",
        "cursor.close()\n",
        "conn.close()\n",
        "\n",
        "# # Display the DataFrame\n",
        "# df.head()"
      ],
      "metadata": {
        "id": "KrFH79zNXeRc"
      },
      "execution_count": null,
      "outputs": []
    },
    {
      "cell_type": "code",
      "source": [
        "len(df)"
      ],
      "metadata": {
        "colab": {
          "base_uri": "https://localhost:8080/"
        },
        "id": "mmqh7huRZXdJ",
        "outputId": "c213fbe7-5267-4132-b89e-9e699266c103"
      },
      "execution_count": null,
      "outputs": [
        {
          "output_type": "execute_result",
          "data": {
            "text/plain": [
              "52"
            ]
          },
          "metadata": {},
          "execution_count": 5
        }
      ]
    },
    {
      "cell_type": "code",
      "source": [
        "from textblob import TextBlob\n",
        "\n",
        "df['sentiment_polarity'] = df['feedback'].apply(lambda x: TextBlob(x).sentiment.polarity)\n"
      ],
      "metadata": {
        "id": "M8G76doQZXfS"
      },
      "execution_count": null,
      "outputs": []
    },
    {
      "cell_type": "code",
      "source": [
        "df.head()"
      ],
      "metadata": {
        "colab": {
          "base_uri": "https://localhost:8080/",
          "height": 206
        },
        "id": "5V4vsstZZXhi",
        "outputId": "a04c07a1-6cae-4bed-81e5-65166dc77c3f"
      },
      "execution_count": null,
      "outputs": [
        {
          "output_type": "execute_result",
          "data": {
            "text/plain": [
              "   id                               test_id  rating           feedback  \\\n",
              "0   1  f759c6f0-e47d-4971-8d29-81e561c9e077       4               best   \n",
              "1   2  f759c6f0-e47d-4971-8d29-81e561c9e077       5  Great experience!   \n",
              "2   3  f759c6f0-e47d-4971-8d29-81e561c9e077       4        very useful   \n",
              "3   4  cb2b8364-aba6-493a-9955-e4a3b2bfe903       5               best   \n",
              "4   5  17269abb-a8d6-411d-a832-a1269f87fb92       5       very helpful   \n",
              "\n",
              "   status                     created_date  user_id  sentiment_polarity  \n",
              "0  Active 2023-06-14 17:01:55.938720+02:00        4                1.00  \n",
              "1  Active 2023-06-14 17:06:34.360191+02:00        3                1.00  \n",
              "2  Active 2023-06-14 17:07:26.164747+02:00        4                0.39  \n",
              "3  Active 2023-06-14 21:16:23.916749+02:00        3                1.00  \n",
              "4  Active 2023-06-14 22:49:15.385489+02:00        4                0.20  "
            ],
            "text/html": [
              "\n",
              "  <div id=\"df-7bedd820-d42c-466d-b4fd-6aabe75be2ff\">\n",
              "    <div class=\"colab-df-container\">\n",
              "      <div>\n",
              "<style scoped>\n",
              "    .dataframe tbody tr th:only-of-type {\n",
              "        vertical-align: middle;\n",
              "    }\n",
              "\n",
              "    .dataframe tbody tr th {\n",
              "        vertical-align: top;\n",
              "    }\n",
              "\n",
              "    .dataframe thead th {\n",
              "        text-align: right;\n",
              "    }\n",
              "</style>\n",
              "<table border=\"1\" class=\"dataframe\">\n",
              "  <thead>\n",
              "    <tr style=\"text-align: right;\">\n",
              "      <th></th>\n",
              "      <th>id</th>\n",
              "      <th>test_id</th>\n",
              "      <th>rating</th>\n",
              "      <th>feedback</th>\n",
              "      <th>status</th>\n",
              "      <th>created_date</th>\n",
              "      <th>user_id</th>\n",
              "      <th>sentiment_polarity</th>\n",
              "    </tr>\n",
              "  </thead>\n",
              "  <tbody>\n",
              "    <tr>\n",
              "      <th>0</th>\n",
              "      <td>1</td>\n",
              "      <td>f759c6f0-e47d-4971-8d29-81e561c9e077</td>\n",
              "      <td>4</td>\n",
              "      <td>best</td>\n",
              "      <td>Active</td>\n",
              "      <td>2023-06-14 17:01:55.938720+02:00</td>\n",
              "      <td>4</td>\n",
              "      <td>1.00</td>\n",
              "    </tr>\n",
              "    <tr>\n",
              "      <th>1</th>\n",
              "      <td>2</td>\n",
              "      <td>f759c6f0-e47d-4971-8d29-81e561c9e077</td>\n",
              "      <td>5</td>\n",
              "      <td>Great experience!</td>\n",
              "      <td>Active</td>\n",
              "      <td>2023-06-14 17:06:34.360191+02:00</td>\n",
              "      <td>3</td>\n",
              "      <td>1.00</td>\n",
              "    </tr>\n",
              "    <tr>\n",
              "      <th>2</th>\n",
              "      <td>3</td>\n",
              "      <td>f759c6f0-e47d-4971-8d29-81e561c9e077</td>\n",
              "      <td>4</td>\n",
              "      <td>very useful</td>\n",
              "      <td>Active</td>\n",
              "      <td>2023-06-14 17:07:26.164747+02:00</td>\n",
              "      <td>4</td>\n",
              "      <td>0.39</td>\n",
              "    </tr>\n",
              "    <tr>\n",
              "      <th>3</th>\n",
              "      <td>4</td>\n",
              "      <td>cb2b8364-aba6-493a-9955-e4a3b2bfe903</td>\n",
              "      <td>5</td>\n",
              "      <td>best</td>\n",
              "      <td>Active</td>\n",
              "      <td>2023-06-14 21:16:23.916749+02:00</td>\n",
              "      <td>3</td>\n",
              "      <td>1.00</td>\n",
              "    </tr>\n",
              "    <tr>\n",
              "      <th>4</th>\n",
              "      <td>5</td>\n",
              "      <td>17269abb-a8d6-411d-a832-a1269f87fb92</td>\n",
              "      <td>5</td>\n",
              "      <td>very helpful</td>\n",
              "      <td>Active</td>\n",
              "      <td>2023-06-14 22:49:15.385489+02:00</td>\n",
              "      <td>4</td>\n",
              "      <td>0.20</td>\n",
              "    </tr>\n",
              "  </tbody>\n",
              "</table>\n",
              "</div>\n",
              "      <button class=\"colab-df-convert\" onclick=\"convertToInteractive('df-7bedd820-d42c-466d-b4fd-6aabe75be2ff')\"\n",
              "              title=\"Convert this dataframe to an interactive table.\"\n",
              "              style=\"display:none;\">\n",
              "        \n",
              "  <svg xmlns=\"http://www.w3.org/2000/svg\" height=\"24px\"viewBox=\"0 0 24 24\"\n",
              "       width=\"24px\">\n",
              "    <path d=\"M0 0h24v24H0V0z\" fill=\"none\"/>\n",
              "    <path d=\"M18.56 5.44l.94 2.06.94-2.06 2.06-.94-2.06-.94-.94-2.06-.94 2.06-2.06.94zm-11 1L8.5 8.5l.94-2.06 2.06-.94-2.06-.94L8.5 2.5l-.94 2.06-2.06.94zm10 10l.94 2.06.94-2.06 2.06-.94-2.06-.94-.94-2.06-.94 2.06-2.06.94z\"/><path d=\"M17.41 7.96l-1.37-1.37c-.4-.4-.92-.59-1.43-.59-.52 0-1.04.2-1.43.59L10.3 9.45l-7.72 7.72c-.78.78-.78 2.05 0 2.83L4 21.41c.39.39.9.59 1.41.59.51 0 1.02-.2 1.41-.59l7.78-7.78 2.81-2.81c.8-.78.8-2.07 0-2.86zM5.41 20L4 18.59l7.72-7.72 1.47 1.35L5.41 20z\"/>\n",
              "  </svg>\n",
              "      </button>\n",
              "      \n",
              "  <style>\n",
              "    .colab-df-container {\n",
              "      display:flex;\n",
              "      flex-wrap:wrap;\n",
              "      gap: 12px;\n",
              "    }\n",
              "\n",
              "    .colab-df-convert {\n",
              "      background-color: #E8F0FE;\n",
              "      border: none;\n",
              "      border-radius: 50%;\n",
              "      cursor: pointer;\n",
              "      display: none;\n",
              "      fill: #1967D2;\n",
              "      height: 32px;\n",
              "      padding: 0 0 0 0;\n",
              "      width: 32px;\n",
              "    }\n",
              "\n",
              "    .colab-df-convert:hover {\n",
              "      background-color: #E2EBFA;\n",
              "      box-shadow: 0px 1px 2px rgba(60, 64, 67, 0.3), 0px 1px 3px 1px rgba(60, 64, 67, 0.15);\n",
              "      fill: #174EA6;\n",
              "    }\n",
              "\n",
              "    [theme=dark] .colab-df-convert {\n",
              "      background-color: #3B4455;\n",
              "      fill: #D2E3FC;\n",
              "    }\n",
              "\n",
              "    [theme=dark] .colab-df-convert:hover {\n",
              "      background-color: #434B5C;\n",
              "      box-shadow: 0px 1px 3px 1px rgba(0, 0, 0, 0.15);\n",
              "      filter: drop-shadow(0px 1px 2px rgba(0, 0, 0, 0.3));\n",
              "      fill: #FFFFFF;\n",
              "    }\n",
              "  </style>\n",
              "\n",
              "      <script>\n",
              "        const buttonEl =\n",
              "          document.querySelector('#df-7bedd820-d42c-466d-b4fd-6aabe75be2ff button.colab-df-convert');\n",
              "        buttonEl.style.display =\n",
              "          google.colab.kernel.accessAllowed ? 'block' : 'none';\n",
              "\n",
              "        async function convertToInteractive(key) {\n",
              "          const element = document.querySelector('#df-7bedd820-d42c-466d-b4fd-6aabe75be2ff');\n",
              "          const dataTable =\n",
              "            await google.colab.kernel.invokeFunction('convertToInteractive',\n",
              "                                                     [key], {});\n",
              "          if (!dataTable) return;\n",
              "\n",
              "          const docLinkHtml = 'Like what you see? Visit the ' +\n",
              "            '<a target=\"_blank\" href=https://colab.research.google.com/notebooks/data_table.ipynb>data table notebook</a>'\n",
              "            + ' to learn more about interactive tables.';\n",
              "          element.innerHTML = '';\n",
              "          dataTable['output_type'] = 'display_data';\n",
              "          await google.colab.output.renderOutput(dataTable, element);\n",
              "          const docLink = document.createElement('div');\n",
              "          docLink.innerHTML = docLinkHtml;\n",
              "          element.appendChild(docLink);\n",
              "        }\n",
              "      </script>\n",
              "    </div>\n",
              "  </div>\n",
              "  "
            ]
          },
          "metadata": {},
          "execution_count": 7
        }
      ]
    },
    {
      "cell_type": "code",
      "source": [
        "# Categorize feedback based on sentiment\n",
        "df['sentiment_category'] = df['sentiment_polarity'].apply(lambda x: 'Positive' if x > 0 else 'Negative' if x < 0 else 'Neutral')\n",
        "\n",
        "# Calculate the count of feedback entries by sentiment category\n",
        "sentiment_counts = df['sentiment_category'].value_counts()\n",
        "\n",
        "# Calculate the percentage of feedback entries by sentiment category\n",
        "sentiment_percentages = df['sentiment_category'].value_counts(normalize=True) * 100\n",
        "\n",
        "# Display the sentiment distribution\n",
        "print(sentiment_counts)\n",
        "print(sentiment_percentages)"
      ],
      "metadata": {
        "colab": {
          "base_uri": "https://localhost:8080/"
        },
        "id": "H3GOq_r2Zaog",
        "outputId": "95cf2e56-fe29-498c-819f-4bd8d8396723"
      },
      "execution_count": null,
      "outputs": [
        {
          "output_type": "stream",
          "name": "stdout",
          "text": [
            "Positive    37\n",
            "Neutral     12\n",
            "Negative     3\n",
            "Name: sentiment_category, dtype: int64\n",
            "Positive    71.153846\n",
            "Neutral     23.076923\n",
            "Negative     5.769231\n",
            "Name: sentiment_category, dtype: float64\n"
          ]
        }
      ]
    },
    {
      "cell_type": "code",
      "source": [
        "# Calculate the count of each rating\n",
        "rating_counts = df['rating'].value_counts().sort_index()\n",
        "\n",
        "# Display the count of each rating\n",
        "for rating in range(1, 6):\n",
        "    count = rating_counts.get(rating, 0)\n",
        "    print(f\"Rating {rating}: {count}\")"
      ],
      "metadata": {
        "colab": {
          "base_uri": "https://localhost:8080/"
        },
        "id": "iiK-4G3mZo3l",
        "outputId": "1c59e0bd-096e-4e1a-baf0-d68f03c6630e"
      },
      "execution_count": null,
      "outputs": [
        {
          "output_type": "stream",
          "name": "stdout",
          "text": [
            "Rating 1: 3\n",
            "Rating 2: 4\n",
            "Rating 3: 6\n",
            "Rating 4: 16\n",
            "Rating 5: 23\n"
          ]
        }
      ]
    },
    {
      "cell_type": "markdown",
      "source": [
        "Positive Recommendation: A rating of 4 or 5.</br>\n",
        "True Positive (TP): A positive recommendation that matches an actual positive video. </br>\n",
        "False Positive (FP): A positive recommendation that does not match an actual positive video.</br>\n",
        "False Negative (FN): An actual positive video that was not recommended.</br>\n",
        "Precision: The ratio of true positives to the sum of true positives and false positives.</br>\n",
        "Recall: The ratio of true positives to the sum of true positives and false negatives."
      ],
      "metadata": {
        "id": "JxAEZFGXns_h"
      }
    },
    {
      "cell_type": "code",
      "source": [
        "# Let's convert the rating column to numeric type for easier calculations\n",
        "df['rating'] = pd.to_numeric(df['rating'])\n",
        "\n",
        "# Define positive recommendations as ratings of 4 or 5\n",
        "df['positive_recommendation'] = df['rating'].apply(lambda x: x >= 4)\n",
        "\n",
        "# Calculate True Positives (TP), False Positives (FP), and False Negatives (FN)\n",
        "TP = df[df['positive_recommendation'] == True].shape[0]\n",
        "FP = df[df['positive_recommendation'] == False].shape[0]\n",
        "FN = df[(df['rating'] >= 4) & (df['positive_recommendation'] == False)].shape[0]\n",
        "\n",
        "# Calculate Precision and Recall\n",
        "precision = TP / (TP + FP)\n",
        "recall = TP / (TP + FN)\n",
        "\n",
        "print(f\"Precision: {precision:.2f}\")\n",
        "print(f\"Recall: {recall:.2f}\")"
      ],
      "metadata": {
        "colab": {
          "base_uri": "https://localhost:8080/"
        },
        "id": "QcIKw0KTnmSE",
        "outputId": "e5809254-babd-469c-955b-4edad07ae93c"
      },
      "execution_count": null,
      "outputs": [
        {
          "output_type": "stream",
          "name": "stdout",
          "text": [
            "Precision: 0.75\n",
            "Recall: 1.00\n"
          ]
        }
      ]
    },
    {
      "cell_type": "markdown",
      "source": [
        "Precision: 0.76\n",
        "Precision is a measure of the accuracy of positive recommendations made by the model. In this case, a precision of 0.76 means that out of all the recommendations classified as positive by the model, 76% of them were actually correct and matched with positive ratings given by users. In other words, the model has a relatively high accuracy in correctly identifying positive recommendations.\n",
        "\n",
        "Recall: 1.00\n",
        "Recall is a measure of the completeness of positive recommendations made by the model. A recall of 1.00 means that the model was able to capture all the positive recommendations present in the evaluation data. It indicates that the model did not miss any positive recommendations.\n",
        "\n",
        "Considering both precision and recall together, a high precision score suggests that the model is accurate in identifying positive recommendations, while a high recall score indicates that the model is comprehensive in capturing positive recommendations. In this case, the model has high recall (capturing all positive recommendations) but slightly lower precision (some recommendations classified as positive were incorrect).\n",
        "\n",
        "Overall, these scores suggest that the model is able to identify a large proportion of positive recommendations but has room for improvement in reducing false positive recommendations. It would be beneficial to further analyze the false positive cases to understand the reasons behind them and refine the model accordingly.\n",
        "\n",
        "\n",
        "\n",
        "\n"
      ],
      "metadata": {
        "id": "vg3p4yUmodRE"
      }
    },
    {
      "cell_type": "markdown",
      "source": [
        "# NDCG"
      ],
      "metadata": {
        "id": "ueI_OfuUG8aY"
      }
    },
    {
      "cell_type": "markdown",
      "source": [
        "## Calculate NDCG without considering user-level rankings"
      ],
      "metadata": {
        "id": "nf3CxedEHAw1"
      }
    },
    {
      "cell_type": "code",
      "source": [
        "# Define relevance scores based on ratings (assuming higher rating indicates higher relevance)\n",
        "df['relevance'] = df['rating']\n",
        "\n",
        "# Sort the DataFrame by rating in descending order\n",
        "df_sorted = df.sort_values('rating', ascending=False)\n",
        "\n",
        "# Calculate the Discounted Cumulative Gain (DCG)\n",
        "df_sorted['rank'] = df_sorted.index + 1\n",
        "df_sorted['dcg'] = (2 ** df_sorted['relevance'] - 1) / np.log2(df_sorted['rank'] + 1)\n",
        "\n",
        "# Calculate the Ideal Discounted Cumulative Gain (IDCG)\n",
        "df_sorted['idcg'] = (2 ** df_sorted['relevance'] - 1) / np.log2(df_sorted['rank'].max() + 1)\n",
        "\n",
        "# Calculate the Normalized Discounted Cumulative Gain (NDCG)\n",
        "df_sorted['ndcg'] = df_sorted['dcg'] / df_sorted['idcg']\n",
        "\n",
        "# Calculate the average NDCG\n",
        "ndcg_avg = df_sorted['ndcg'].mean()\n",
        "\n",
        "print(f\"Average NDCG: {ndcg_avg:.4f}\")"
      ],
      "metadata": {
        "colab": {
          "base_uri": "https://localhost:8080/"
        },
        "id": "hzASko_zG_MB",
        "outputId": "7939f327-3d32-4598-c8d6-e9aad35e7032"
      },
      "execution_count": null,
      "outputs": [
        {
          "output_type": "stream",
          "name": "stdout",
          "text": [
            "Average NDCG: 1.4593\n"
          ]
        }
      ]
    },
    {
      "cell_type": "code",
      "source": [],
      "metadata": {
        "id": "ZteNfsk-HIf7"
      },
      "execution_count": null,
      "outputs": []
    },
    {
      "cell_type": "markdown",
      "source": [
        "## Calculate NDCG with considering user-level rankings"
      ],
      "metadata": {
        "id": "C71_HTDWHwCU"
      }
    },
    {
      "cell_type": "code",
      "source": [
        "# Define relevance scores based on ratings (assuming higher rating indicates higher relevance)\n",
        "df['relevance'] = df['rating']\n",
        "\n",
        "# Sort the DataFrame by user_id and rating in descending order\n",
        "df_sorted = df.sort_values(['user_id', 'rating'], ascending=[True, False])\n",
        "\n",
        "# Group the DataFrame by user_id and calculate the Discounted Cumulative Gain (DCG)\n",
        "df_sorted['rank'] = df_sorted.groupby('user_id').cumcount() + 1\n",
        "df_sorted['dcg'] = (2 ** df_sorted['relevance'] - 1) / np.log2(df_sorted['rank'] + 1)\n",
        "\n",
        "# Calculate the Ideal Discounted Cumulative Gain (IDCG)\n",
        "df_sorted['idcg'] = (2 ** df_sorted['relevance'] - 1) / np.log2(df_sorted['rank'].max() + 1)\n",
        "\n",
        "# Group the DataFrame by user_id and calculate the Normalized Discounted Cumulative Gain (NDCG)\n",
        "df_sorted['ndcg'] = df_sorted['dcg'] / df_sorted['idcg']\n",
        "\n",
        "# Calculate the average NDCG across all users\n",
        "ndcg_avg = df_sorted.groupby('user_id')['ndcg'].mean().mean()\n",
        "\n",
        "print(f\"Average NDCG: {ndcg_avg:.4f}\")"
      ],
      "metadata": {
        "colab": {
          "base_uri": "https://localhost:8080/"
        },
        "id": "KBP6evOqwiw8",
        "outputId": "2db1f624-3b10-438b-9801-a9a24dedc585"
      },
      "execution_count": null,
      "outputs": [
        {
          "output_type": "stream",
          "name": "stdout",
          "text": [
            "Average NDCG: 4.0349\n"
          ]
        }
      ]
    },
    {
      "cell_type": "markdown",
      "source": [
        "we assume that higher ratings indicate higher relevance. We calculate the Discounted Cumulative Gain (DCG) by assigning ranks to the recommendations within each user and applying the formula (2 ** relevance - 1) / log2(rank + 1) to calculate the DCG value for each recommendation."
      ],
      "metadata": {
        "id": "oGd3A99KwyV_"
      }
    },
    {
      "cell_type": "code",
      "source": [
        "# Define relevant items based on ratings (assuming higher rating indicates relevance)\n",
        "df['relevant'] = df['rating'].apply(lambda x: 1 if x >= 4 else 0)\n",
        "\n",
        "# Sort the DataFrame by rating in descending order\n",
        "df_sorted = df.sort_values('rating', ascending=False)\n",
        "\n",
        "# Calculate the cumulative sum of relevant items and rank\n",
        "df_sorted['cumulative_relevant'] = df_sorted['relevant'].cumsum()\n",
        "df_sorted['rank'] = df_sorted.index + 1\n",
        "\n",
        "# Calculate precision and average precision\n",
        "df_sorted['precision'] = df_sorted['cumulative_relevant'] / df_sorted['rank']\n",
        "df_sorted['average_precision'] = df_sorted['precision'] * df_sorted['relevant']\n",
        "\n",
        "# Calculate Mean Average Precision (MAP)\n",
        "map_avg = df_sorted['average_precision'].sum() / df_sorted['relevant'].sum()\n",
        "\n",
        "print(f\"Mean Average Precision (MAP): {map_avg:.4f}\")"
      ],
      "metadata": {
        "colab": {
          "base_uri": "https://localhost:8080/"
        },
        "id": "DgDNJNsDDwTG",
        "outputId": "e313a4ac-c3da-4453-f4d2-3cf063066ea1"
      },
      "execution_count": null,
      "outputs": [
        {
          "output_type": "stream",
          "name": "stdout",
          "text": [
            "Mean Average Precision (MAP): 2.3845\n"
          ]
        }
      ]
    },
    {
      "cell_type": "markdown",
      "source": [
        "The Mean Average Precision (MAP) value of 2.5866 indicates the overall quality of your recommendation engine based on the provided feedback data.</br>\n",
        "In this case, a MAP value of 2.5866 suggests that, on average, your recommendation engine provides recommendations that are somewhat relevant to the users. However, since the MAP value is below 5, it indicates that there is room for improvement in terms of precision and the ability to recommend highly relevant items"
      ],
      "metadata": {
        "id": "7T4c70fkGawb"
      }
    },
    {
      "cell_type": "code",
      "source": [],
      "metadata": {
        "id": "FKr23iCwDwVj"
      },
      "execution_count": null,
      "outputs": []
    },
    {
      "cell_type": "code",
      "source": [
        "# Group the data by rating and concatenate the feedback text\n",
        "feedback_by_rating = df.groupby('rating')['feedback'].apply(lambda x: ' '.join(x))\n",
        "\n",
        "# Analyze the feedback for each rating\n",
        "for rating, feedback in feedback_by_rating.items():\n",
        "    print(f\"Rating {rating}:\")\n",
        "    print(feedback, ',')\n",
        "    print( )\n"
      ],
      "metadata": {
        "colab": {
          "base_uri": "https://localhost:8080/"
        },
        "id": "5Fo_E62kcOyv",
        "outputId": "d5044ac3-3751-44b1-89bf-c0a9450636a7"
      },
      "execution_count": null,
      "outputs": [
        {
          "output_type": "stream",
          "name": "stdout",
          "text": [
            "Rating 1:\n",
            ". . did not understand CBT video ,\n",
            "\n",
            "Rating 2:\n",
            "no time want more stress related videos ok type like 3 videos ,\n",
            "\n",
            "Rating 3:\n",
            "useful insightful and not highly relevant to my field of interest Not happy with recommendations Daniel Seigal video is awesome tedx videos so nice could have more relevant to my problem ,\n",
            "\n",
            "Rating 4:\n",
            "best very useful very useful helpful useful useful great recommendations great recommendations useful This is working well good content. can add few more could have been more relevant based on my profession long videos The recommendations were diverse and introduced me to new and interesting options. Little long videos, I would have preferred slightly short videos. But yes, interesting videos will complete later ,\n",
            "\n",
            "Rating 5:\n",
            "Great experience! best very helpful very useful good recommendations very helpful thanks useful very useful useful Recommendations made sense to me. The summary format is not readable. Please bring human connect in your summary. thanks for recommendations useful recommendations were diverse appreciate it very insighful The recommended podcasts about burnout helped me gain a better understanding of the issue and find coping strategies Video related to work/life helped me ! want more empathy videos need more worklife balance content fine Recommended for corporates Videos are very related and shows significant impact on individuals Recommended videos were very helpful in helping me address some of the concerns I had with feeling of burnout due to lack of appreciation at work. ,\n",
            "\n"
          ]
        }
      ]
    },
    {
      "cell_type": "markdown",
      "source": [
        "# Video Likes and Dislikes"
      ],
      "metadata": {
        "id": "Z5KOadLaqOa9"
      }
    },
    {
      "cell_type": "code",
      "source": [
        "# Specify the table name\n",
        "table_name = 'assesments_rating'\n",
        "\n",
        "# Establish a connection and execute the query\n",
        "conn = psycopg2.connect(database=db, user=user, password=password, host=host, port=port)\n",
        "cursor = conn.cursor()\n",
        "cursor.execute(f\"SELECT * FROM {table_name}\")\n",
        "\n",
        "# Fetch all rows from the cursor\n",
        "rows = cursor.fetchall()\n",
        "\n",
        "# Create a pandas DataFrame from the fetched rows\n",
        "df_likes_dis = pd.DataFrame(rows, columns=[desc[0] for desc in cursor.description])\n",
        "\n",
        "# Close the cursor and the connection\n",
        "cursor.close()\n",
        "conn.close()\n",
        "\n",
        "# # Display the DataFrame\n",
        "# df.head()"
      ],
      "metadata": {
        "id": "puavucvCef9E"
      },
      "execution_count": null,
      "outputs": []
    },
    {
      "cell_type": "code",
      "source": [
        "df_likes_dis.head()"
      ],
      "metadata": {
        "colab": {
          "base_uri": "https://localhost:8080/",
          "height": 206
        },
        "id": "UUd-xWYjef_s",
        "outputId": "406b187f-4088-4ea4-e2e7-b6946ad13ccf"
      },
      "execution_count": null,
      "outputs": [
        {
          "output_type": "execute_result",
          "data": {
            "text/plain": [
              "   id                               test_id  user_id  \\\n",
              "0  49  e6bec286-9971-47aa-acf3-c35de89afb9b       12   \n",
              "1  50  e6bec286-9971-47aa-acf3-c35de89afb9b       12   \n",
              "2   2  b0985c5a-89a9-4354-a1e6-0be2d2f3856f        3   \n",
              "3   3  b0985c5a-89a9-4354-a1e6-0be2d2f3856f        3   \n",
              "4   4  b0985c5a-89a9-4354-a1e6-0be2d2f3856f        3   \n",
              "\n",
              "                                     video_url  rating  \\\n",
              "0  https://www.youtube.com/watch?v=NccsIt6dDPE       0   \n",
              "1  https://www.youtube.com/watch?v=FEm2ZzSFAv4       0   \n",
              "2  https://www.youtube.com/watch?v=zVvE4_-ISUU       1   \n",
              "3  https://www.youtube.com/watch?v=DM2XFuzhEuU       1   \n",
              "4  https://www.youtube.com/watch?v=rLsimrBoYXc       1   \n",
              "\n",
              "                        created_at  \n",
              "0 2023-06-30 14:46:15.178108+02:00  \n",
              "1 2023-06-30 14:46:20.008861+02:00  \n",
              "2 2023-06-30 10:49:00.511333+02:00  \n",
              "3 2023-06-30 10:51:52.558999+02:00  \n",
              "4 2023-06-30 10:55:03.355728+02:00  "
            ],
            "text/html": [
              "\n",
              "  <div id=\"df-fe393595-0dec-42b3-9218-8847093c86e3\">\n",
              "    <div class=\"colab-df-container\">\n",
              "      <div>\n",
              "<style scoped>\n",
              "    .dataframe tbody tr th:only-of-type {\n",
              "        vertical-align: middle;\n",
              "    }\n",
              "\n",
              "    .dataframe tbody tr th {\n",
              "        vertical-align: top;\n",
              "    }\n",
              "\n",
              "    .dataframe thead th {\n",
              "        text-align: right;\n",
              "    }\n",
              "</style>\n",
              "<table border=\"1\" class=\"dataframe\">\n",
              "  <thead>\n",
              "    <tr style=\"text-align: right;\">\n",
              "      <th></th>\n",
              "      <th>id</th>\n",
              "      <th>test_id</th>\n",
              "      <th>user_id</th>\n",
              "      <th>video_url</th>\n",
              "      <th>rating</th>\n",
              "      <th>created_at</th>\n",
              "    </tr>\n",
              "  </thead>\n",
              "  <tbody>\n",
              "    <tr>\n",
              "      <th>0</th>\n",
              "      <td>49</td>\n",
              "      <td>e6bec286-9971-47aa-acf3-c35de89afb9b</td>\n",
              "      <td>12</td>\n",
              "      <td>https://www.youtube.com/watch?v=NccsIt6dDPE</td>\n",
              "      <td>0</td>\n",
              "      <td>2023-06-30 14:46:15.178108+02:00</td>\n",
              "    </tr>\n",
              "    <tr>\n",
              "      <th>1</th>\n",
              "      <td>50</td>\n",
              "      <td>e6bec286-9971-47aa-acf3-c35de89afb9b</td>\n",
              "      <td>12</td>\n",
              "      <td>https://www.youtube.com/watch?v=FEm2ZzSFAv4</td>\n",
              "      <td>0</td>\n",
              "      <td>2023-06-30 14:46:20.008861+02:00</td>\n",
              "    </tr>\n",
              "    <tr>\n",
              "      <th>2</th>\n",
              "      <td>2</td>\n",
              "      <td>b0985c5a-89a9-4354-a1e6-0be2d2f3856f</td>\n",
              "      <td>3</td>\n",
              "      <td>https://www.youtube.com/watch?v=zVvE4_-ISUU</td>\n",
              "      <td>1</td>\n",
              "      <td>2023-06-30 10:49:00.511333+02:00</td>\n",
              "    </tr>\n",
              "    <tr>\n",
              "      <th>3</th>\n",
              "      <td>3</td>\n",
              "      <td>b0985c5a-89a9-4354-a1e6-0be2d2f3856f</td>\n",
              "      <td>3</td>\n",
              "      <td>https://www.youtube.com/watch?v=DM2XFuzhEuU</td>\n",
              "      <td>1</td>\n",
              "      <td>2023-06-30 10:51:52.558999+02:00</td>\n",
              "    </tr>\n",
              "    <tr>\n",
              "      <th>4</th>\n",
              "      <td>4</td>\n",
              "      <td>b0985c5a-89a9-4354-a1e6-0be2d2f3856f</td>\n",
              "      <td>3</td>\n",
              "      <td>https://www.youtube.com/watch?v=rLsimrBoYXc</td>\n",
              "      <td>1</td>\n",
              "      <td>2023-06-30 10:55:03.355728+02:00</td>\n",
              "    </tr>\n",
              "  </tbody>\n",
              "</table>\n",
              "</div>\n",
              "      <button class=\"colab-df-convert\" onclick=\"convertToInteractive('df-fe393595-0dec-42b3-9218-8847093c86e3')\"\n",
              "              title=\"Convert this dataframe to an interactive table.\"\n",
              "              style=\"display:none;\">\n",
              "        \n",
              "  <svg xmlns=\"http://www.w3.org/2000/svg\" height=\"24px\"viewBox=\"0 0 24 24\"\n",
              "       width=\"24px\">\n",
              "    <path d=\"M0 0h24v24H0V0z\" fill=\"none\"/>\n",
              "    <path d=\"M18.56 5.44l.94 2.06.94-2.06 2.06-.94-2.06-.94-.94-2.06-.94 2.06-2.06.94zm-11 1L8.5 8.5l.94-2.06 2.06-.94-2.06-.94L8.5 2.5l-.94 2.06-2.06.94zm10 10l.94 2.06.94-2.06 2.06-.94-2.06-.94-.94-2.06-.94 2.06-2.06.94z\"/><path d=\"M17.41 7.96l-1.37-1.37c-.4-.4-.92-.59-1.43-.59-.52 0-1.04.2-1.43.59L10.3 9.45l-7.72 7.72c-.78.78-.78 2.05 0 2.83L4 21.41c.39.39.9.59 1.41.59.51 0 1.02-.2 1.41-.59l7.78-7.78 2.81-2.81c.8-.78.8-2.07 0-2.86zM5.41 20L4 18.59l7.72-7.72 1.47 1.35L5.41 20z\"/>\n",
              "  </svg>\n",
              "      </button>\n",
              "      \n",
              "  <style>\n",
              "    .colab-df-container {\n",
              "      display:flex;\n",
              "      flex-wrap:wrap;\n",
              "      gap: 12px;\n",
              "    }\n",
              "\n",
              "    .colab-df-convert {\n",
              "      background-color: #E8F0FE;\n",
              "      border: none;\n",
              "      border-radius: 50%;\n",
              "      cursor: pointer;\n",
              "      display: none;\n",
              "      fill: #1967D2;\n",
              "      height: 32px;\n",
              "      padding: 0 0 0 0;\n",
              "      width: 32px;\n",
              "    }\n",
              "\n",
              "    .colab-df-convert:hover {\n",
              "      background-color: #E2EBFA;\n",
              "      box-shadow: 0px 1px 2px rgba(60, 64, 67, 0.3), 0px 1px 3px 1px rgba(60, 64, 67, 0.15);\n",
              "      fill: #174EA6;\n",
              "    }\n",
              "\n",
              "    [theme=dark] .colab-df-convert {\n",
              "      background-color: #3B4455;\n",
              "      fill: #D2E3FC;\n",
              "    }\n",
              "\n",
              "    [theme=dark] .colab-df-convert:hover {\n",
              "      background-color: #434B5C;\n",
              "      box-shadow: 0px 1px 3px 1px rgba(0, 0, 0, 0.15);\n",
              "      filter: drop-shadow(0px 1px 2px rgba(0, 0, 0, 0.3));\n",
              "      fill: #FFFFFF;\n",
              "    }\n",
              "  </style>\n",
              "\n",
              "      <script>\n",
              "        const buttonEl =\n",
              "          document.querySelector('#df-fe393595-0dec-42b3-9218-8847093c86e3 button.colab-df-convert');\n",
              "        buttonEl.style.display =\n",
              "          google.colab.kernel.accessAllowed ? 'block' : 'none';\n",
              "\n",
              "        async function convertToInteractive(key) {\n",
              "          const element = document.querySelector('#df-fe393595-0dec-42b3-9218-8847093c86e3');\n",
              "          const dataTable =\n",
              "            await google.colab.kernel.invokeFunction('convertToInteractive',\n",
              "                                                     [key], {});\n",
              "          if (!dataTable) return;\n",
              "\n",
              "          const docLinkHtml = 'Like what you see? Visit the ' +\n",
              "            '<a target=\"_blank\" href=https://colab.research.google.com/notebooks/data_table.ipynb>data table notebook</a>'\n",
              "            + ' to learn more about interactive tables.';\n",
              "          element.innerHTML = '';\n",
              "          dataTable['output_type'] = 'display_data';\n",
              "          await google.colab.output.renderOutput(dataTable, element);\n",
              "          const docLink = document.createElement('div');\n",
              "          docLink.innerHTML = docLinkHtml;\n",
              "          element.appendChild(docLink);\n",
              "        }\n",
              "      </script>\n",
              "    </div>\n",
              "  </div>\n",
              "  "
            ]
          },
          "metadata": {},
          "execution_count": 16
        }
      ]
    },
    {
      "cell_type": "code",
      "source": [
        "#Calculate the overall like/dislike ratio:\n",
        "like_dislike_ratio = df_likes_dis['rating'].mean()\n",
        "like_dislike_ratio"
      ],
      "metadata": {
        "colab": {
          "base_uri": "https://localhost:8080/"
        },
        "id": "1wQ43F_uegB_",
        "outputId": "0a6a9bdb-bf35-4b42-fbd8-52143aab9e22"
      },
      "execution_count": null,
      "outputs": [
        {
          "output_type": "execute_result",
          "data": {
            "text/plain": [
              "0.7444444444444445"
            ]
          },
          "metadata": {},
          "execution_count": 17
        }
      ]
    },
    {
      "cell_type": "code",
      "source": [
        "#Analyze the distribution of ratings:\n",
        "rating_counts = df_likes_dis['rating'].value_counts()\n",
        "rating_counts"
      ],
      "metadata": {
        "colab": {
          "base_uri": "https://localhost:8080/"
        },
        "id": "x1gngNtnegEg",
        "outputId": "0e383fbc-6fe3-4a96-e206-4d45e5131c86"
      },
      "execution_count": null,
      "outputs": [
        {
          "output_type": "execute_result",
          "data": {
            "text/plain": [
              "1    134\n",
              "0     46\n",
              "Name: rating, dtype: int64"
            ]
          },
          "metadata": {},
          "execution_count": 18
        }
      ]
    },
    {
      "cell_type": "code",
      "source": [
        "#Identify the most liked or disliked videos:\n",
        "\n",
        "most_liked_videos = df_likes_dis[df_likes_dis['rating'] == 1]['video_url'].value_counts().head(5)\n",
        "most_disliked_videos = df_likes_dis[df_likes_dis['rating'] == 0]['video_url'].value_counts().head(5)\n"
      ],
      "metadata": {
        "id": "GCzUdQ9BfYLL"
      },
      "execution_count": null,
      "outputs": []
    },
    {
      "cell_type": "markdown",
      "source": [],
      "metadata": {
        "id": "K0SUU3GrwhKX"
      }
    },
    {
      "cell_type": "code",
      "source": [
        "most_liked_videos"
      ],
      "metadata": {
        "colab": {
          "base_uri": "https://localhost:8080/"
        },
        "id": "eWyM0TCBfd12",
        "outputId": "fd31b14c-2100-40a3-b304-6813658a4aaa"
      },
      "execution_count": null,
      "outputs": [
        {
          "output_type": "execute_result",
          "data": {
            "text/plain": [
              "https://www.youtube.com/watch?v=a7gFkUqIv1E    19\n",
              "https://www.youtube.com/watch?v=11U0h0DPu7k    18\n",
              "https://www.youtube.com/watch?v=SLEK4GdRXoM    14\n",
              "https://www.youtube.com/watch?v=eiEMVA8AIJw    13\n",
              "https://www.youtube.com/watch?v=JGW7ik4xse4     9\n",
              "Name: video_url, dtype: int64"
            ]
          },
          "metadata": {},
          "execution_count": 20
        }
      ]
    },
    {
      "cell_type": "code",
      "source": [
        "most_disliked_videos"
      ],
      "metadata": {
        "colab": {
          "base_uri": "https://localhost:8080/"
        },
        "id": "wLqR8OFqfmM-",
        "outputId": "db8f337e-3b7f-45d7-ad60-6ea85657e805"
      },
      "execution_count": null,
      "outputs": [
        {
          "output_type": "execute_result",
          "data": {
            "text/plain": [
              "https://www.youtube.com/watch?v=NccsIt6dDPE    12\n",
              "https://www.youtube.com/watch?v=a7gFkUqIv1E     5\n",
              "https://www.youtube.com/watch?v=SLEK4GdRXoM     4\n",
              "https://www.youtube.com/watch?v=eiEMVA8AIJw     4\n",
              "https://www.youtube.com/watch?v=G88lq7VTTMw     4\n",
              "Name: video_url, dtype: int64"
            ]
          },
          "metadata": {},
          "execution_count": 21
        }
      ]
    },
    {
      "cell_type": "code",
      "source": [
        "# average_rating_per_video = df_likes_dis.groupby('video_url')['rating'].mean()\n",
        "# average_rating_per_video"
      ],
      "metadata": {
        "id": "wY692ATafnTJ"
      },
      "execution_count": null,
      "outputs": []
    },
    {
      "cell_type": "code",
      "source": [
        "#high disagreement videos\n",
        "video_rating_std = df_likes_dis.groupby('video_url')['rating'].std()\n",
        "high_disagreement_videos = video_rating_std[video_rating_std > 0.5]\n",
        "high_disagreement_videos"
      ],
      "metadata": {
        "colab": {
          "base_uri": "https://localhost:8080/"
        },
        "id": "xSmQ90VFfv_T",
        "outputId": "cb873355-51a7-4cd7-b7c2-a9303785ba42"
      },
      "execution_count": null,
      "outputs": [
        {
          "output_type": "execute_result",
          "data": {
            "text/plain": [
              "video_url\n",
              "https://www.youtube.com/watch?v=G88lq7VTTMw    0.527046\n",
              "https://www.youtube.com/watch?v=bP9bT6xfhNE    0.707107\n",
              "https://www.youtube.com/watch?v=gLxDCC9qHRk    0.547723\n",
              "Name: rating, dtype: float64"
            ]
          },
          "metadata": {},
          "execution_count": 23
        }
      ]
    },
    {
      "cell_type": "markdown",
      "source": [
        "By identifying the videos with high disagreement in ratings, we can pinpoint videos that elicit mixed opinions from users. This indicates that different users have contrasting preferences or subjective judgments about these particular videos. It suggests that these videos may be more controversial or polarizing in terms of user satisfaction or engagement."
      ],
      "metadata": {
        "id": "fe-se51di_6q"
      }
    },
    {
      "cell_type": "code",
      "source": [],
      "metadata": {
        "id": "d_nFhfKthaRd"
      },
      "execution_count": null,
      "outputs": []
    }
  ]
}