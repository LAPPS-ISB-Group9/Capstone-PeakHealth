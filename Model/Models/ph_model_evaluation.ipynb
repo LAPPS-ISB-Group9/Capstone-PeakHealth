{
 "cells": [
  {
   "cell_type": "markdown",
   "metadata": {},
   "source": [
    "## Model_Evaluation "
   ]
  },
  {
   "cell_type": "code",
   "execution_count": 10,
   "metadata": {
    "id": "8bYSsMb1W1SI"
   },
   "outputs": [],
   "source": [
    "# !pip install psycopg2\n",
    "# !pip install textblob"
   ]
  },
  {
   "cell_type": "markdown",
   "metadata": {
    "id": "vGhHJCpwqXGh"
   },
   "source": [
    "## Import Required Packages"
   ]
  },
  {
   "cell_type": "code",
   "execution_count": 4,
   "metadata": {
    "id": "kcuI57_EWnPf"
   },
   "outputs": [],
   "source": [
    "import pandas as pd\n",
    "import numpy as np\n",
    "import psycopg2\n",
    "from sqlalchemy import create_engine\n",
    "import time"
   ]
  },
  {
   "cell_type": "markdown",
   "metadata": {
    "id": "I28Xv9RMqeNo"
   },
   "source": [
    "## Conenct to Database"
   ]
  },
  {
   "cell_type": "code",
   "execution_count": 65,
   "metadata": {
    "id": "YpC0jw3dW1U4"
   },
   "outputs": [],
   "source": [
    "# Connect to the PostgreSQL database\n",
    "host = '173.249.1.23'\n",
    "port = '5432'\n",
    "db = 'ph_api'\n",
    "user = 'postgres'\n",
    "password = 'Password'\n",
    "conn_str = f'postgresql://{user}:{password}@{host}:{port}/{db}'\n",
    "engine = create_engine(conn_str)\n",
    "\n"
   ]
  },
  {
   "cell_type": "markdown",
   "metadata": {
    "id": "5wS44yqsqicM"
   },
   "source": [
    "## Evaluate metrics - Ratings and Feedback"
   ]
  },
  {
   "cell_type": "code",
   "execution_count": 75,
   "metadata": {
    "id": "KrFH79zNXeRc"
   },
   "outputs": [],
   "source": [
    "# Specify the table name\n",
    "table_name = 'feedback_feedback'\n",
    "\n",
    "# Establish a connection and execute the query\n",
    "conn = psycopg2.connect(database=db, user=user, password=password, host=host, port=port)\n",
    "cursor = conn.cursor()\n",
    "cursor.execute(f\"SELECT * FROM {table_name}\")\n",
    "\n",
    "# Fetch all rows from the cursor\n",
    "rows = cursor.fetchall()\n",
    "\n",
    "# Create a pandas DataFrame from the fetched rows\n",
    "df = pd.DataFrame(rows, columns=[desc[0] for desc in cursor.description])\n",
    "\n",
    "# Close the cursor and the connection\n",
    "cursor.close()\n",
    "conn.close()\n",
    "\n",
    "# # Display the DataFrame\n",
    "# df.head()"
   ]
  },
  {
   "cell_type": "code",
   "execution_count": 67,
   "metadata": {
    "colab": {
     "base_uri": "https://localhost:8080/"
    },
    "id": "mmqh7huRZXdJ",
    "outputId": "c213fbe7-5267-4132-b89e-9e699266c103"
   },
   "outputs": [
    {
     "data": {
      "text/plain": [
       "54"
      ]
     },
     "execution_count": 67,
     "metadata": {},
     "output_type": "execute_result"
    }
   ],
   "source": [
    "len(df)"
   ]
  },
  {
   "cell_type": "code",
   "execution_count": 68,
   "metadata": {
    "id": "M8G76doQZXfS"
   },
   "outputs": [],
   "source": [
    "from textblob import TextBlob\n",
    "\n",
    "df['sentiment_polarity'] = df['feedback'].apply(lambda x: TextBlob(x).sentiment.polarity)\n"
   ]
  },
  {
   "cell_type": "code",
   "execution_count": 69,
   "metadata": {
    "colab": {
     "base_uri": "https://localhost:8080/",
     "height": 206
    },
    "id": "5V4vsstZZXhi",
    "outputId": "a04c07a1-6cae-4bed-81e5-65166dc77c3f"
   },
   "outputs": [
    {
     "data": {
      "text/html": [
       "<div>\n",
       "<style scoped>\n",
       "    .dataframe tbody tr th:only-of-type {\n",
       "        vertical-align: middle;\n",
       "    }\n",
       "\n",
       "    .dataframe tbody tr th {\n",
       "        vertical-align: top;\n",
       "    }\n",
       "\n",
       "    .dataframe thead th {\n",
       "        text-align: right;\n",
       "    }\n",
       "</style>\n",
       "<table border=\"1\" class=\"dataframe\">\n",
       "  <thead>\n",
       "    <tr style=\"text-align: right;\">\n",
       "      <th></th>\n",
       "      <th>id</th>\n",
       "      <th>test_id</th>\n",
       "      <th>rating</th>\n",
       "      <th>feedback</th>\n",
       "      <th>status</th>\n",
       "      <th>created_date</th>\n",
       "      <th>user_id</th>\n",
       "      <th>sentiment_polarity</th>\n",
       "    </tr>\n",
       "  </thead>\n",
       "  <tbody>\n",
       "    <tr>\n",
       "      <th>0</th>\n",
       "      <td>1</td>\n",
       "      <td>f759c6f0-e47d-4971-8d29-81e561c9e077</td>\n",
       "      <td>4</td>\n",
       "      <td>best</td>\n",
       "      <td>Active</td>\n",
       "      <td>2023-06-14 17:01:55.938720+02:00</td>\n",
       "      <td>4</td>\n",
       "      <td>1.00</td>\n",
       "    </tr>\n",
       "    <tr>\n",
       "      <th>1</th>\n",
       "      <td>2</td>\n",
       "      <td>f759c6f0-e47d-4971-8d29-81e561c9e077</td>\n",
       "      <td>5</td>\n",
       "      <td>Great experience!</td>\n",
       "      <td>Active</td>\n",
       "      <td>2023-06-14 17:06:34.360191+02:00</td>\n",
       "      <td>3</td>\n",
       "      <td>1.00</td>\n",
       "    </tr>\n",
       "    <tr>\n",
       "      <th>2</th>\n",
       "      <td>3</td>\n",
       "      <td>f759c6f0-e47d-4971-8d29-81e561c9e077</td>\n",
       "      <td>4</td>\n",
       "      <td>very useful</td>\n",
       "      <td>Active</td>\n",
       "      <td>2023-06-14 17:07:26.164747+02:00</td>\n",
       "      <td>4</td>\n",
       "      <td>0.39</td>\n",
       "    </tr>\n",
       "    <tr>\n",
       "      <th>3</th>\n",
       "      <td>4</td>\n",
       "      <td>cb2b8364-aba6-493a-9955-e4a3b2bfe903</td>\n",
       "      <td>5</td>\n",
       "      <td>best</td>\n",
       "      <td>Active</td>\n",
       "      <td>2023-06-14 21:16:23.916749+02:00</td>\n",
       "      <td>3</td>\n",
       "      <td>1.00</td>\n",
       "    </tr>\n",
       "    <tr>\n",
       "      <th>4</th>\n",
       "      <td>5</td>\n",
       "      <td>17269abb-a8d6-411d-a832-a1269f87fb92</td>\n",
       "      <td>5</td>\n",
       "      <td>very helpful</td>\n",
       "      <td>Active</td>\n",
       "      <td>2023-06-14 22:49:15.385489+02:00</td>\n",
       "      <td>4</td>\n",
       "      <td>0.20</td>\n",
       "    </tr>\n",
       "  </tbody>\n",
       "</table>\n",
       "</div>"
      ],
      "text/plain": [
       "   id                               test_id  rating           feedback  \\\n",
       "0   1  f759c6f0-e47d-4971-8d29-81e561c9e077       4               best   \n",
       "1   2  f759c6f0-e47d-4971-8d29-81e561c9e077       5  Great experience!   \n",
       "2   3  f759c6f0-e47d-4971-8d29-81e561c9e077       4        very useful   \n",
       "3   4  cb2b8364-aba6-493a-9955-e4a3b2bfe903       5               best   \n",
       "4   5  17269abb-a8d6-411d-a832-a1269f87fb92       5       very helpful   \n",
       "\n",
       "   status                     created_date  user_id  sentiment_polarity  \n",
       "0  Active 2023-06-14 17:01:55.938720+02:00        4                1.00  \n",
       "1  Active 2023-06-14 17:06:34.360191+02:00        3                1.00  \n",
       "2  Active 2023-06-14 17:07:26.164747+02:00        4                0.39  \n",
       "3  Active 2023-06-14 21:16:23.916749+02:00        3                1.00  \n",
       "4  Active 2023-06-14 22:49:15.385489+02:00        4                0.20  "
      ]
     },
     "execution_count": 69,
     "metadata": {},
     "output_type": "execute_result"
    }
   ],
   "source": [
    "df.head()"
   ]
  },
  {
   "cell_type": "code",
   "execution_count": 70,
   "metadata": {
    "colab": {
     "base_uri": "https://localhost:8080/"
    },
    "id": "H3GOq_r2Zaog",
    "outputId": "95cf2e56-fe29-498c-819f-4bd8d8396723"
   },
   "outputs": [
    {
     "name": "stdout",
     "output_type": "stream",
     "text": [
      "Positive    38\n",
      "Neutral     13\n",
      "Negative     3\n",
      "Name: sentiment_category, dtype: int64\n",
      "Positive    70.370370\n",
      "Neutral     24.074074\n",
      "Negative     5.555556\n",
      "Name: sentiment_category, dtype: float64\n"
     ]
    }
   ],
   "source": [
    "# Categorize feedback based on sentiment\n",
    "df['sentiment_category'] = df['sentiment_polarity'].apply(lambda x: 'Positive' if x > 0 else 'Negative' if x < 0 else 'Neutral')\n",
    "\n",
    "# Calculate the count of feedback entries by sentiment category\n",
    "sentiment_counts = df['sentiment_category'].value_counts()\n",
    "\n",
    "# Calculate the percentage of feedback entries by sentiment category\n",
    "sentiment_percentages = df['sentiment_category'].value_counts(normalize=True) * 100\n",
    "\n",
    "# Display the sentiment distribution\n",
    "print(sentiment_counts)\n",
    "print(sentiment_percentages)"
   ]
  },
  {
   "cell_type": "code",
   "execution_count": 76,
   "metadata": {
    "colab": {
     "base_uri": "https://localhost:8080/"
    },
    "id": "iiK-4G3mZo3l",
    "outputId": "1c59e0bd-096e-4e1a-baf0-d68f03c6630e"
   },
   "outputs": [
    {
     "name": "stdout",
     "output_type": "stream",
     "text": [
      "Rating 1: 3\n",
      "Rating 2: 4\n",
      "Rating 3: 6\n",
      "Rating 4: 17\n",
      "Rating 5: 24\n"
     ]
    }
   ],
   "source": [
    "# Calculate the count of each rating\n",
    "rating_counts = df['rating'].value_counts().sort_index()\n",
    "\n",
    "# Display the count of each rating\n",
    "for rating in range(1, 6):\n",
    "    count = rating_counts.get(rating, 0)\n",
    "    print(f\"Rating {rating}: {count}\")"
   ]
  },
  {
   "cell_type": "markdown",
   "metadata": {},
   "source": [
    "## Mean Average Precision "
   ]
  },
  {
   "cell_type": "code",
   "execution_count": 84,
   "metadata": {
    "colab": {
     "base_uri": "https://localhost:8080/"
    },
    "id": "DgDNJNsDDwTG",
    "outputId": "e313a4ac-c3da-4453-f4d2-3cf063066ea1"
   },
   "outputs": [
    {
     "name": "stdout",
     "output_type": "stream",
     "text": [
      "Mean Average Precision (MAP): 0.7593\n"
     ]
    }
   ],
   "source": [
    "# Define relevant items based on ratings (assuming higher rating indicates relevance)\n",
    "df['relevant'] = df['rating'].apply(lambda x: 1 if x >= 4 else 0)\n",
    "\n",
    "map_avg = df['relevant'].sum()/len(df['relevant'])\n",
    "print(f\"Mean Average Precision (MAP): {map_avg:.4f}\")"
   ]
  },
  {
   "cell_type": "markdown",
   "metadata": {
    "id": "7T4c70fkGawb"
   },
   "source": [
    "The Mean Average Precision (MAP) value of  indicates the overall quality of your recommendation engine based on the provided feedback data.</br>\n",
    "In this case, a MAP value of  suggests that, on average, your recommendation engine provides recommendations that are somewhat relevant to the users. This metric will help for continuous monitoring on the overall experience of the app that users are having."
   ]
  },
  {
   "cell_type": "markdown",
   "metadata": {
    "id": "JxAEZFGXns_h"
   },
   "source": [
    "Positive Recommendation: A rating of 4 or 5.</br>\n",
    "True Positive (TP): A positive recommendation that matches an actual positive video. </br>\n",
    "False Positive (FP): A positive recommendation that does not match an actual positive video.</br>\n",
    "False Negative (FN): An actual positive video that was not recommended.</br>\n",
    "Precision: The ratio of true positives to the sum of true positives and false positives.</br>\n",
    "Recall: The ratio of true positives to the sum of true positives and false negatives."
   ]
  },
  {
   "cell_type": "code",
   "execution_count": 24,
   "metadata": {
    "colab": {
     "base_uri": "https://localhost:8080/"
    },
    "id": "QcIKw0KTnmSE",
    "outputId": "e5809254-babd-469c-955b-4edad07ae93c"
   },
   "outputs": [
    {
     "name": "stdout",
     "output_type": "stream",
     "text": [
      "Precision: 0.75\n",
      "Recall: 1.00\n"
     ]
    }
   ],
   "source": [
    "# Let's convert the rating column to numeric type for easier calculations\n",
    "df['rating'] = pd.to_numeric(df['rating'])\n",
    "\n",
    "# Define positive recommendations as ratings of 4 or 5\n",
    "df['positive_recommendation'] = df['rating'].apply(lambda x: x >= 4)\n",
    "\n",
    "# Calculate True Positives (TP), False Positives (FP), and False Negatives (FN)\n",
    "TP = df[df['positive_recommendation'] == True].shape[0]\n",
    "FP = df[df['positive_recommendation'] == False].shape[0]\n",
    "FN = df[(df['rating'] >= 4) & (df['positive_recommendation'] == False)].shape[0]\n",
    "\n",
    "# Calculate Precision and Recall\n",
    "precision = TP / (TP + FP)\n",
    "# recall = TP / (TP + FN)\n",
    "\n",
    "print(f\"Precision: {precision:.2f}\")\n",
    "# print(f\"Recall: {recall:.2f}\")"
   ]
  },
  {
   "cell_type": "markdown",
   "metadata": {
    "id": "vg3p4yUmodRE"
   },
   "source": [
    "Precision: 0.76\n",
    "Precision is a measure of the accuracy of positive recommendations made by the model. In this case, a precision of 0.76 means that out of all the recommendations classified as positive by the model, 76% of them were actually correct and matched with positive ratings given by users. In other words, the model has a relatively high accuracy in correctly identifying positive recommendations.\n",
    "\n",
    "Recall: 1.00\n",
    "Recall is a measure of the completeness of positive recommendations made by the model. A recall of 1.00 means that the model was able to capture all the positive recommendations present in the evaluation data. It indicates that the model did not miss any positive recommendations.\n",
    "\n",
    "Considering both precision and recall together, a high precision score suggests that the model is accurate in identifying positive recommendations, while a high recall score indicates that the model is comprehensive in capturing positive recommendations. In this case, the model has high recall (capturing all positive recommendations) but slightly lower precision (some recommendations classified as positive were incorrect).\n",
    "\n",
    "Overall, these scores suggest that the model is able to identify a large proportion of positive recommendations but has room for improvement in reducing false positive recommendations. It would be beneficial to further analyze the false positive cases to understand the reasons behind them and refine the model accordingly.\n",
    "\n",
    "\n",
    "\n",
    "\n"
   ]
  },
  {
   "cell_type": "markdown",
   "metadata": {
    "id": "ueI_OfuUG8aY"
   },
   "source": [
    "# NDCG"
   ]
  },
  {
   "cell_type": "markdown",
   "metadata": {
    "id": "nf3CxedEHAw1"
   },
   "source": [
    "## Calculate NDCG without considering user-level rankings\n",
    "\n",
    "This evaluation metric is ideal to compare two ranking algorithms or two models relevance order effectiveness."
   ]
  },
  {
   "cell_type": "code",
   "execution_count": 31,
   "metadata": {
    "scrolled": true
   },
   "outputs": [
    {
     "data": {
      "text/html": [
       "<div>\n",
       "<style scoped>\n",
       "    .dataframe tbody tr th:only-of-type {\n",
       "        vertical-align: middle;\n",
       "    }\n",
       "\n",
       "    .dataframe tbody tr th {\n",
       "        vertical-align: top;\n",
       "    }\n",
       "\n",
       "    .dataframe thead th {\n",
       "        text-align: right;\n",
       "    }\n",
       "</style>\n",
       "<table border=\"1\" class=\"dataframe\">\n",
       "  <thead>\n",
       "    <tr style=\"text-align: right;\">\n",
       "      <th></th>\n",
       "      <th>id</th>\n",
       "      <th>test_id</th>\n",
       "      <th>user_id</th>\n",
       "      <th>video_url</th>\n",
       "      <th>rating</th>\n",
       "      <th>created_at</th>\n",
       "    </tr>\n",
       "  </thead>\n",
       "  <tbody>\n",
       "    <tr>\n",
       "      <th>32</th>\n",
       "      <td>30</td>\n",
       "      <td>559d48bb-422f-47ae-82a4-0b101074fc73</td>\n",
       "      <td>12</td>\n",
       "      <td>https://www.youtube.com/watch?v=a7gFkUqIv1E</td>\n",
       "      <td>1</td>\n",
       "      <td>2023-06-30 14:25:38.917061+02:00</td>\n",
       "    </tr>\n",
       "    <tr>\n",
       "      <th>33</th>\n",
       "      <td>31</td>\n",
       "      <td>559d48bb-422f-47ae-82a4-0b101074fc73</td>\n",
       "      <td>12</td>\n",
       "      <td>https://www.youtube.com/watch?v=11U0h0DPu7k</td>\n",
       "      <td>1</td>\n",
       "      <td>2023-06-30 14:25:44.332373+02:00</td>\n",
       "    </tr>\n",
       "    <tr>\n",
       "      <th>34</th>\n",
       "      <td>32</td>\n",
       "      <td>559d48bb-422f-47ae-82a4-0b101074fc73</td>\n",
       "      <td>12</td>\n",
       "      <td>https://www.youtube.com/watch?v=SLEK4GdRXoM</td>\n",
       "      <td>0</td>\n",
       "      <td>2023-06-30 14:25:50.543237+02:00</td>\n",
       "    </tr>\n",
       "    <tr>\n",
       "      <th>35</th>\n",
       "      <td>33</td>\n",
       "      <td>559d48bb-422f-47ae-82a4-0b101074fc73</td>\n",
       "      <td>12</td>\n",
       "      <td>https://www.youtube.com/watch?v=JGW7ik4xse4</td>\n",
       "      <td>1</td>\n",
       "      <td>2023-06-30 14:25:53.657965+02:00</td>\n",
       "    </tr>\n",
       "    <tr>\n",
       "      <th>36</th>\n",
       "      <td>34</td>\n",
       "      <td>559d48bb-422f-47ae-82a4-0b101074fc73</td>\n",
       "      <td>12</td>\n",
       "      <td>https://www.youtube.com/watch?v=eiEMVA8AIJw</td>\n",
       "      <td>0</td>\n",
       "      <td>2023-06-30 14:25:56.281204+02:00</td>\n",
       "    </tr>\n",
       "    <tr>\n",
       "      <th>37</th>\n",
       "      <td>35</td>\n",
       "      <td>559d48bb-422f-47ae-82a4-0b101074fc73</td>\n",
       "      <td>12</td>\n",
       "      <td>https://www.youtube.com/watch?v=NccsIt6dDPE</td>\n",
       "      <td>0</td>\n",
       "      <td>2023-06-30 14:25:58.874187+02:00</td>\n",
       "    </tr>\n",
       "    <tr>\n",
       "      <th>38</th>\n",
       "      <td>36</td>\n",
       "      <td>559d48bb-422f-47ae-82a4-0b101074fc73</td>\n",
       "      <td>12</td>\n",
       "      <td>https://www.youtube.com/watch?v=P56f8v-DRTY</td>\n",
       "      <td>1</td>\n",
       "      <td>2023-06-30 14:26:00.684797+02:00</td>\n",
       "    </tr>\n",
       "    <tr>\n",
       "      <th>39</th>\n",
       "      <td>37</td>\n",
       "      <td>559d48bb-422f-47ae-82a4-0b101074fc73</td>\n",
       "      <td>12</td>\n",
       "      <td>https://www.youtube.com/watch?v=Da5PNfG9Ezk</td>\n",
       "      <td>1</td>\n",
       "      <td>2023-06-30 14:26:03.208761+02:00</td>\n",
       "    </tr>\n",
       "    <tr>\n",
       "      <th>40</th>\n",
       "      <td>38</td>\n",
       "      <td>559d48bb-422f-47ae-82a4-0b101074fc73</td>\n",
       "      <td>12</td>\n",
       "      <td>https://www.youtube.com/watch?v=lkOp4OGLWow</td>\n",
       "      <td>1</td>\n",
       "      <td>2023-06-30 14:26:06.408219+02:00</td>\n",
       "    </tr>\n",
       "  </tbody>\n",
       "</table>\n",
       "</div>"
      ],
      "text/plain": [
       "    id                               test_id  user_id  \\\n",
       "32  30  559d48bb-422f-47ae-82a4-0b101074fc73       12   \n",
       "33  31  559d48bb-422f-47ae-82a4-0b101074fc73       12   \n",
       "34  32  559d48bb-422f-47ae-82a4-0b101074fc73       12   \n",
       "35  33  559d48bb-422f-47ae-82a4-0b101074fc73       12   \n",
       "36  34  559d48bb-422f-47ae-82a4-0b101074fc73       12   \n",
       "37  35  559d48bb-422f-47ae-82a4-0b101074fc73       12   \n",
       "38  36  559d48bb-422f-47ae-82a4-0b101074fc73       12   \n",
       "39  37  559d48bb-422f-47ae-82a4-0b101074fc73       12   \n",
       "40  38  559d48bb-422f-47ae-82a4-0b101074fc73       12   \n",
       "\n",
       "                                      video_url  rating  \\\n",
       "32  https://www.youtube.com/watch?v=a7gFkUqIv1E       1   \n",
       "33  https://www.youtube.com/watch?v=11U0h0DPu7k       1   \n",
       "34  https://www.youtube.com/watch?v=SLEK4GdRXoM       0   \n",
       "35  https://www.youtube.com/watch?v=JGW7ik4xse4       1   \n",
       "36  https://www.youtube.com/watch?v=eiEMVA8AIJw       0   \n",
       "37  https://www.youtube.com/watch?v=NccsIt6dDPE       0   \n",
       "38  https://www.youtube.com/watch?v=P56f8v-DRTY       1   \n",
       "39  https://www.youtube.com/watch?v=Da5PNfG9Ezk       1   \n",
       "40  https://www.youtube.com/watch?v=lkOp4OGLWow       1   \n",
       "\n",
       "                         created_at  \n",
       "32 2023-06-30 14:25:38.917061+02:00  \n",
       "33 2023-06-30 14:25:44.332373+02:00  \n",
       "34 2023-06-30 14:25:50.543237+02:00  \n",
       "35 2023-06-30 14:25:53.657965+02:00  \n",
       "36 2023-06-30 14:25:56.281204+02:00  \n",
       "37 2023-06-30 14:25:58.874187+02:00  \n",
       "38 2023-06-30 14:26:00.684797+02:00  \n",
       "39 2023-06-30 14:26:03.208761+02:00  \n",
       "40 2023-06-30 14:26:06.408219+02:00  "
      ]
     },
     "execution_count": 31,
     "metadata": {},
     "output_type": "execute_result"
    }
   ],
   "source": [
    "# Specify the table name\n",
    "table_name = 'assesments_rating'\n",
    "\n",
    "# Establish a connection and execute the query\n",
    "conn = psycopg2.connect(database=db, user=user, password=password, host=host, port=port)\n",
    "cursor = conn.cursor()\n",
    "cursor.execute(f\"SELECT * FROM {table_name}\")\n",
    "\n",
    "# Fetch all rows from the cursor\n",
    "rows = cursor.fetchall()\n",
    "\n",
    "# Create a pandas DataFrame from the fetched rows\n",
    "df = pd.DataFrame(rows, columns=[desc[0] for desc in cursor.description])\n",
    "\n",
    "# Close the cursor and the connection\n",
    "cursor.close()\n",
    "conn.close()\n",
    "\n",
    "# Display the DataFrame\n",
    "# df.head()\n",
    "df1 = df[df['test_id'] == '559d48bb-422f-47ae-82a4-0b101074fc73']\n",
    "df1.head(9)"
   ]
  },
  {
   "cell_type": "markdown",
   "metadata": {},
   "source": [
    "### NDCG - For one test_id by one user"
   ]
  },
  {
   "cell_type": "code",
   "execution_count": 61,
   "metadata": {
    "colab": {
     "base_uri": "https://localhost:8080/"
    },
    "id": "hzASko_zG_MB",
    "outputId": "7939f327-3d32-4598-c8d6-e9aad35e7032"
   },
   "outputs": [
    {
     "name": "stdout",
     "output_type": "stream",
     "text": [
      "Average NDCG: 0.9113\n"
     ]
    },
    {
     "name": "stderr",
     "output_type": "stream",
     "text": [
      "/var/folders/cq/_x0bkhyj5ys4znbgr99rngjc0000gn/T/ipykernel_31603/4036268388.py:3: SettingWithCopyWarning: \n",
      "A value is trying to be set on a copy of a slice from a DataFrame.\n",
      "Try using .loc[row_indexer,col_indexer] = value instead\n",
      "\n",
      "See the caveats in the documentation: https://pandas.pydata.org/pandas-docs/stable/user_guide/indexing.html#returning-a-view-versus-a-copy\n",
      "  df1['relevance'] = df1['rating']\n",
      "/var/folders/cq/_x0bkhyj5ys4znbgr99rngjc0000gn/T/ipykernel_31603/4036268388.py:6: SettingWithCopyWarning: \n",
      "A value is trying to be set on a copy of a slice from a DataFrame.\n",
      "Try using .loc[row_indexer,col_indexer] = value instead\n",
      "\n",
      "See the caveats in the documentation: https://pandas.pydata.org/pandas-docs/stable/user_guide/indexing.html#returning-a-view-versus-a-copy\n",
      "  df1['recomm_rank'] = range(1,10)\n",
      "/var/folders/cq/_x0bkhyj5ys4znbgr99rngjc0000gn/T/ipykernel_31603/4036268388.py:7: SettingWithCopyWarning: \n",
      "A value is trying to be set on a copy of a slice from a DataFrame.\n",
      "Try using .loc[row_indexer,col_indexer] = value instead\n",
      "\n",
      "See the caveats in the documentation: https://pandas.pydata.org/pandas-docs/stable/user_guide/indexing.html#returning-a-view-versus-a-copy\n",
      "  df1['DCG'] = df1['relevance'] / np.log2(df1['recomm_rank'] + 1)\n"
     ]
    }
   ],
   "source": [
    "# Define relevance scores based on ratings (assuming higher rating indicates higher relevance)\n",
    "df1 = df[df['test_id'] == '559d48bb-422f-47ae-82a4-0b101074fc73']\n",
    "df1['relevance'] = df1['rating']\n",
    "\n",
    "# Calculate the Discounted Cumulative Gain (DCG)\n",
    "df1['recomm_rank'] = range(1,10)\n",
    "df1['DCG'] = df1['relevance'] / np.log2(df1['recomm_rank'] + 1)\n",
    "df1['DCG']\n",
    "dcg = df1['DCG'].sum()\n",
    "dcg\n",
    "\n",
    "# Calculate the Ideal Discounted Cumulative Gain (IDCG)\n",
    "df_sorted = df1.sort_values(by = 'rating', ascending= False)\n",
    "df_sorted['ideal_rank'] = range(1,10)\n",
    "df_sorted['iDCG'] = df_sorted['relevance'] / np.log2(df_sorted['ideal_rank'] + 1)\n",
    "df_sorted['iDCG']\n",
    "idcg = df_sorted['iDCG'].sum()\n",
    "idcg\n",
    "\n",
    "#Calculate the NDCG (normalized discounted gain)\n",
    "ndcg = dcg/idcg\n",
    "\n",
    "print(f\"Average NDCG: {ndcg:.4f}\")"
   ]
  },
  {
   "cell_type": "code",
   "execution_count": null,
   "metadata": {
    "colab": {
     "base_uri": "https://localhost:8080/"
    },
    "id": "5Fo_E62kcOyv",
    "outputId": "d5044ac3-3751-44b1-89bf-c0a9450636a7"
   },
   "outputs": [
    {
     "name": "stdout",
     "output_type": "stream",
     "text": [
      "Rating 1:\n",
      ". . did not understand CBT video ,\n",
      "\n",
      "Rating 2:\n",
      "no time want more stress related videos ok type like 3 videos ,\n",
      "\n",
      "Rating 3:\n",
      "useful insightful and not highly relevant to my field of interest Not happy with recommendations Daniel Seigal video is awesome tedx videos so nice could have more relevant to my problem ,\n",
      "\n",
      "Rating 4:\n",
      "best very useful very useful helpful useful useful great recommendations great recommendations useful This is working well good content. can add few more could have been more relevant based on my profession long videos The recommendations were diverse and introduced me to new and interesting options. Little long videos, I would have preferred slightly short videos. But yes, interesting videos will complete later ,\n",
      "\n",
      "Rating 5:\n",
      "Great experience! best very helpful very useful good recommendations very helpful thanks useful very useful useful Recommendations made sense to me. The summary format is not readable. Please bring human connect in your summary. thanks for recommendations useful recommendations were diverse appreciate it very insighful The recommended podcasts about burnout helped me gain a better understanding of the issue and find coping strategies Video related to work/life helped me ! want more empathy videos need more worklife balance content fine Recommended for corporates Videos are very related and shows significant impact on individuals Recommended videos were very helpful in helping me address some of the concerns I had with feeling of burnout due to lack of appreciation at work. ,\n",
      "\n"
     ]
    }
   ],
   "source": [
    "# Group the data by rating and concatenate the feedback text\n",
    "feedback_by_rating = df.groupby('rating')['feedback'].apply(lambda x: ' '.join(x))\n",
    "\n",
    "# Analyze the feedback for each rating\n",
    "for rating, feedback in feedback_by_rating.items():\n",
    "    print(f\"Rating {rating}:\")\n",
    "    print(feedback, ',')\n",
    "    print( )\n"
   ]
  },
  {
   "cell_type": "markdown",
   "metadata": {
    "id": "Z5KOadLaqOa9"
   },
   "source": [
    "# Video Likes and Dislikes"
   ]
  },
  {
   "cell_type": "code",
   "execution_count": null,
   "metadata": {
    "id": "puavucvCef9E"
   },
   "outputs": [],
   "source": [
    "# Specify the table name\n",
    "table_name = 'assesments_rating'\n",
    "\n",
    "# Establish a connection and execute the query\n",
    "conn = psycopg2.connect(database=db, user=user, password=password, host=host, port=port)\n",
    "cursor = conn.cursor()\n",
    "cursor.execute(f\"SELECT * FROM {table_name}\")\n",
    "\n",
    "# Fetch all rows from the cursor\n",
    "rows = cursor.fetchall()\n",
    "\n",
    "# Create a pandas DataFrame from the fetched rows\n",
    "df_likes_dis = pd.DataFrame(rows, columns=[desc[0] for desc in cursor.description])\n",
    "\n",
    "# Close the cursor and the connection\n",
    "cursor.close()\n",
    "conn.close()\n",
    "\n",
    "# # Display the DataFrame\n",
    "# df.head()"
   ]
  },
  {
   "cell_type": "code",
   "execution_count": null,
   "metadata": {
    "colab": {
     "base_uri": "https://localhost:8080/",
     "height": 206
    },
    "id": "UUd-xWYjef_s",
    "outputId": "406b187f-4088-4ea4-e2e7-b6946ad13ccf"
   },
   "outputs": [
    {
     "data": {
      "text/html": [
       "\n",
       "  <div id=\"df-fe393595-0dec-42b3-9218-8847093c86e3\">\n",
       "    <div class=\"colab-df-container\">\n",
       "      <div>\n",
       "<style scoped>\n",
       "    .dataframe tbody tr th:only-of-type {\n",
       "        vertical-align: middle;\n",
       "    }\n",
       "\n",
       "    .dataframe tbody tr th {\n",
       "        vertical-align: top;\n",
       "    }\n",
       "\n",
       "    .dataframe thead th {\n",
       "        text-align: right;\n",
       "    }\n",
       "</style>\n",
       "<table border=\"1\" class=\"dataframe\">\n",
       "  <thead>\n",
       "    <tr style=\"text-align: right;\">\n",
       "      <th></th>\n",
       "      <th>id</th>\n",
       "      <th>test_id</th>\n",
       "      <th>user_id</th>\n",
       "      <th>video_url</th>\n",
       "      <th>rating</th>\n",
       "      <th>created_at</th>\n",
       "    </tr>\n",
       "  </thead>\n",
       "  <tbody>\n",
       "    <tr>\n",
       "      <th>0</th>\n",
       "      <td>49</td>\n",
       "      <td>e6bec286-9971-47aa-acf3-c35de89afb9b</td>\n",
       "      <td>12</td>\n",
       "      <td>https://www.youtube.com/watch?v=NccsIt6dDPE</td>\n",
       "      <td>0</td>\n",
       "      <td>2023-06-30 14:46:15.178108+02:00</td>\n",
       "    </tr>\n",
       "    <tr>\n",
       "      <th>1</th>\n",
       "      <td>50</td>\n",
       "      <td>e6bec286-9971-47aa-acf3-c35de89afb9b</td>\n",
       "      <td>12</td>\n",
       "      <td>https://www.youtube.com/watch?v=FEm2ZzSFAv4</td>\n",
       "      <td>0</td>\n",
       "      <td>2023-06-30 14:46:20.008861+02:00</td>\n",
       "    </tr>\n",
       "    <tr>\n",
       "      <th>2</th>\n",
       "      <td>2</td>\n",
       "      <td>b0985c5a-89a9-4354-a1e6-0be2d2f3856f</td>\n",
       "      <td>3</td>\n",
       "      <td>https://www.youtube.com/watch?v=zVvE4_-ISUU</td>\n",
       "      <td>1</td>\n",
       "      <td>2023-06-30 10:49:00.511333+02:00</td>\n",
       "    </tr>\n",
       "    <tr>\n",
       "      <th>3</th>\n",
       "      <td>3</td>\n",
       "      <td>b0985c5a-89a9-4354-a1e6-0be2d2f3856f</td>\n",
       "      <td>3</td>\n",
       "      <td>https://www.youtube.com/watch?v=DM2XFuzhEuU</td>\n",
       "      <td>1</td>\n",
       "      <td>2023-06-30 10:51:52.558999+02:00</td>\n",
       "    </tr>\n",
       "    <tr>\n",
       "      <th>4</th>\n",
       "      <td>4</td>\n",
       "      <td>b0985c5a-89a9-4354-a1e6-0be2d2f3856f</td>\n",
       "      <td>3</td>\n",
       "      <td>https://www.youtube.com/watch?v=rLsimrBoYXc</td>\n",
       "      <td>1</td>\n",
       "      <td>2023-06-30 10:55:03.355728+02:00</td>\n",
       "    </tr>\n",
       "  </tbody>\n",
       "</table>\n",
       "</div>\n",
       "      <button class=\"colab-df-convert\" onclick=\"convertToInteractive('df-fe393595-0dec-42b3-9218-8847093c86e3')\"\n",
       "              title=\"Convert this dataframe to an interactive table.\"\n",
       "              style=\"display:none;\">\n",
       "        \n",
       "  <svg xmlns=\"http://www.w3.org/2000/svg\" height=\"24px\"viewBox=\"0 0 24 24\"\n",
       "       width=\"24px\">\n",
       "    <path d=\"M0 0h24v24H0V0z\" fill=\"none\"/>\n",
       "    <path d=\"M18.56 5.44l.94 2.06.94-2.06 2.06-.94-2.06-.94-.94-2.06-.94 2.06-2.06.94zm-11 1L8.5 8.5l.94-2.06 2.06-.94-2.06-.94L8.5 2.5l-.94 2.06-2.06.94zm10 10l.94 2.06.94-2.06 2.06-.94-2.06-.94-.94-2.06-.94 2.06-2.06.94z\"/><path d=\"M17.41 7.96l-1.37-1.37c-.4-.4-.92-.59-1.43-.59-.52 0-1.04.2-1.43.59L10.3 9.45l-7.72 7.72c-.78.78-.78 2.05 0 2.83L4 21.41c.39.39.9.59 1.41.59.51 0 1.02-.2 1.41-.59l7.78-7.78 2.81-2.81c.8-.78.8-2.07 0-2.86zM5.41 20L4 18.59l7.72-7.72 1.47 1.35L5.41 20z\"/>\n",
       "  </svg>\n",
       "      </button>\n",
       "      \n",
       "  <style>\n",
       "    .colab-df-container {\n",
       "      display:flex;\n",
       "      flex-wrap:wrap;\n",
       "      gap: 12px;\n",
       "    }\n",
       "\n",
       "    .colab-df-convert {\n",
       "      background-color: #E8F0FE;\n",
       "      border: none;\n",
       "      border-radius: 50%;\n",
       "      cursor: pointer;\n",
       "      display: none;\n",
       "      fill: #1967D2;\n",
       "      height: 32px;\n",
       "      padding: 0 0 0 0;\n",
       "      width: 32px;\n",
       "    }\n",
       "\n",
       "    .colab-df-convert:hover {\n",
       "      background-color: #E2EBFA;\n",
       "      box-shadow: 0px 1px 2px rgba(60, 64, 67, 0.3), 0px 1px 3px 1px rgba(60, 64, 67, 0.15);\n",
       "      fill: #174EA6;\n",
       "    }\n",
       "\n",
       "    [theme=dark] .colab-df-convert {\n",
       "      background-color: #3B4455;\n",
       "      fill: #D2E3FC;\n",
       "    }\n",
       "\n",
       "    [theme=dark] .colab-df-convert:hover {\n",
       "      background-color: #434B5C;\n",
       "      box-shadow: 0px 1px 3px 1px rgba(0, 0, 0, 0.15);\n",
       "      filter: drop-shadow(0px 1px 2px rgba(0, 0, 0, 0.3));\n",
       "      fill: #FFFFFF;\n",
       "    }\n",
       "  </style>\n",
       "\n",
       "      <script>\n",
       "        const buttonEl =\n",
       "          document.querySelector('#df-fe393595-0dec-42b3-9218-8847093c86e3 button.colab-df-convert');\n",
       "        buttonEl.style.display =\n",
       "          google.colab.kernel.accessAllowed ? 'block' : 'none';\n",
       "\n",
       "        async function convertToInteractive(key) {\n",
       "          const element = document.querySelector('#df-fe393595-0dec-42b3-9218-8847093c86e3');\n",
       "          const dataTable =\n",
       "            await google.colab.kernel.invokeFunction('convertToInteractive',\n",
       "                                                     [key], {});\n",
       "          if (!dataTable) return;\n",
       "\n",
       "          const docLinkHtml = 'Like what you see? Visit the ' +\n",
       "            '<a target=\"_blank\" href=https://colab.research.google.com/notebooks/data_table.ipynb>data table notebook</a>'\n",
       "            + ' to learn more about interactive tables.';\n",
       "          element.innerHTML = '';\n",
       "          dataTable['output_type'] = 'display_data';\n",
       "          await google.colab.output.renderOutput(dataTable, element);\n",
       "          const docLink = document.createElement('div');\n",
       "          docLink.innerHTML = docLinkHtml;\n",
       "          element.appendChild(docLink);\n",
       "        }\n",
       "      </script>\n",
       "    </div>\n",
       "  </div>\n",
       "  "
      ],
      "text/plain": [
       "   id                               test_id  user_id  \\\n",
       "0  49  e6bec286-9971-47aa-acf3-c35de89afb9b       12   \n",
       "1  50  e6bec286-9971-47aa-acf3-c35de89afb9b       12   \n",
       "2   2  b0985c5a-89a9-4354-a1e6-0be2d2f3856f        3   \n",
       "3   3  b0985c5a-89a9-4354-a1e6-0be2d2f3856f        3   \n",
       "4   4  b0985c5a-89a9-4354-a1e6-0be2d2f3856f        3   \n",
       "\n",
       "                                     video_url  rating  \\\n",
       "0  https://www.youtube.com/watch?v=NccsIt6dDPE       0   \n",
       "1  https://www.youtube.com/watch?v=FEm2ZzSFAv4       0   \n",
       "2  https://www.youtube.com/watch?v=zVvE4_-ISUU       1   \n",
       "3  https://www.youtube.com/watch?v=DM2XFuzhEuU       1   \n",
       "4  https://www.youtube.com/watch?v=rLsimrBoYXc       1   \n",
       "\n",
       "                        created_at  \n",
       "0 2023-06-30 14:46:15.178108+02:00  \n",
       "1 2023-06-30 14:46:20.008861+02:00  \n",
       "2 2023-06-30 10:49:00.511333+02:00  \n",
       "3 2023-06-30 10:51:52.558999+02:00  \n",
       "4 2023-06-30 10:55:03.355728+02:00  "
      ]
     },
     "execution_count": 16,
     "metadata": {},
     "output_type": "execute_result"
    }
   ],
   "source": [
    "df_likes_dis.head()"
   ]
  },
  {
   "cell_type": "code",
   "execution_count": null,
   "metadata": {
    "colab": {
     "base_uri": "https://localhost:8080/"
    },
    "id": "1wQ43F_uegB_",
    "outputId": "0a6a9bdb-bf35-4b42-fbd8-52143aab9e22"
   },
   "outputs": [
    {
     "data": {
      "text/plain": [
       "0.7444444444444445"
      ]
     },
     "execution_count": 17,
     "metadata": {},
     "output_type": "execute_result"
    }
   ],
   "source": [
    "#Calculate the overall like/dislike ratio:\n",
    "like_dislike_ratio = df_likes_dis['rating'].mean()\n",
    "like_dislike_ratio"
   ]
  },
  {
   "cell_type": "code",
   "execution_count": null,
   "metadata": {
    "colab": {
     "base_uri": "https://localhost:8080/"
    },
    "id": "x1gngNtnegEg",
    "outputId": "0e383fbc-6fe3-4a96-e206-4d45e5131c86"
   },
   "outputs": [
    {
     "data": {
      "text/plain": [
       "1    134\n",
       "0     46\n",
       "Name: rating, dtype: int64"
      ]
     },
     "execution_count": 18,
     "metadata": {},
     "output_type": "execute_result"
    }
   ],
   "source": [
    "#Analyze the distribution of ratings:\n",
    "rating_counts = df_likes_dis['rating'].value_counts()\n",
    "rating_counts"
   ]
  },
  {
   "cell_type": "code",
   "execution_count": null,
   "metadata": {
    "id": "GCzUdQ9BfYLL"
   },
   "outputs": [],
   "source": [
    "#Identify the most liked or disliked videos:\n",
    "\n",
    "most_liked_videos = df_likes_dis[df_likes_dis['rating'] == 1]['video_url'].value_counts().head(5)\n",
    "most_disliked_videos = df_likes_dis[df_likes_dis['rating'] == 0]['video_url'].value_counts().head(5)\n"
   ]
  },
  {
   "cell_type": "markdown",
   "metadata": {
    "id": "K0SUU3GrwhKX"
   },
   "source": []
  },
  {
   "cell_type": "code",
   "execution_count": null,
   "metadata": {
    "colab": {
     "base_uri": "https://localhost:8080/"
    },
    "id": "eWyM0TCBfd12",
    "outputId": "fd31b14c-2100-40a3-b304-6813658a4aaa"
   },
   "outputs": [
    {
     "data": {
      "text/plain": [
       "https://www.youtube.com/watch?v=a7gFkUqIv1E    19\n",
       "https://www.youtube.com/watch?v=11U0h0DPu7k    18\n",
       "https://www.youtube.com/watch?v=SLEK4GdRXoM    14\n",
       "https://www.youtube.com/watch?v=eiEMVA8AIJw    13\n",
       "https://www.youtube.com/watch?v=JGW7ik4xse4     9\n",
       "Name: video_url, dtype: int64"
      ]
     },
     "execution_count": 20,
     "metadata": {},
     "output_type": "execute_result"
    }
   ],
   "source": [
    "most_liked_videos"
   ]
  },
  {
   "cell_type": "code",
   "execution_count": null,
   "metadata": {
    "colab": {
     "base_uri": "https://localhost:8080/"
    },
    "id": "wLqR8OFqfmM-",
    "outputId": "db8f337e-3b7f-45d7-ad60-6ea85657e805"
   },
   "outputs": [
    {
     "data": {
      "text/plain": [
       "https://www.youtube.com/watch?v=NccsIt6dDPE    12\n",
       "https://www.youtube.com/watch?v=a7gFkUqIv1E     5\n",
       "https://www.youtube.com/watch?v=SLEK4GdRXoM     4\n",
       "https://www.youtube.com/watch?v=eiEMVA8AIJw     4\n",
       "https://www.youtube.com/watch?v=G88lq7VTTMw     4\n",
       "Name: video_url, dtype: int64"
      ]
     },
     "execution_count": 21,
     "metadata": {},
     "output_type": "execute_result"
    }
   ],
   "source": [
    "most_disliked_videos"
   ]
  },
  {
   "cell_type": "code",
   "execution_count": null,
   "metadata": {
    "id": "wY692ATafnTJ"
   },
   "outputs": [],
   "source": [
    "# average_rating_per_video = df_likes_dis.groupby('video_url')['rating'].mean()\n",
    "# average_rating_per_video"
   ]
  },
  {
   "cell_type": "code",
   "execution_count": null,
   "metadata": {
    "colab": {
     "base_uri": "https://localhost:8080/"
    },
    "id": "xSmQ90VFfv_T",
    "outputId": "cb873355-51a7-4cd7-b7c2-a9303785ba42"
   },
   "outputs": [
    {
     "data": {
      "text/plain": [
       "video_url\n",
       "https://www.youtube.com/watch?v=G88lq7VTTMw    0.527046\n",
       "https://www.youtube.com/watch?v=bP9bT6xfhNE    0.707107\n",
       "https://www.youtube.com/watch?v=gLxDCC9qHRk    0.547723\n",
       "Name: rating, dtype: float64"
      ]
     },
     "execution_count": 23,
     "metadata": {},
     "output_type": "execute_result"
    }
   ],
   "source": [
    "#high disagreement videos\n",
    "video_rating_std = df_likes_dis.groupby('video_url')['rating'].std()\n",
    "high_disagreement_videos = video_rating_std[video_rating_std > 0.5]\n",
    "high_disagreement_videos"
   ]
  },
  {
   "cell_type": "markdown",
   "metadata": {
    "id": "fe-se51di_6q"
   },
   "source": [
    "By identifying the videos with high disagreement in ratings, we can pinpoint videos that elicit mixed opinions from users. This indicates that different users have contrasting preferences or subjective judgments about these particular videos. It suggests that these videos may be more controversial or polarizing in terms of user satisfaction or engagement."
   ]
  },
  {
   "cell_type": "code",
   "execution_count": null,
   "metadata": {
    "id": "d_nFhfKthaRd"
   },
   "outputs": [],
   "source": []
  }
 ],
 "metadata": {
  "colab": {
   "provenance": []
  },
  "kernelspec": {
   "display_name": "Python 3 (ipykernel)",
   "language": "python",
   "name": "python3"
  },
  "language_info": {
   "codemirror_mode": {
    "name": "ipython",
    "version": 3
   },
   "file_extension": ".py",
   "mimetype": "text/x-python",
   "name": "python",
   "nbconvert_exporter": "python",
   "pygments_lexer": "ipython3",
   "version": "3.9.13"
  }
 },
 "nbformat": 4,
 "nbformat_minor": 1
}
